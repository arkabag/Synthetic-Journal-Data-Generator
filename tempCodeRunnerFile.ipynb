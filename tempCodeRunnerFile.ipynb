class WorkoutSet(BaseModel):
    weight: Optional[int] = Field(None, description="Weight used in the exercise")
    reps: Optional[int] = Field(None, description="Number of repetitions")
    time: Optional[int] = Field(None, description="Duration in seconds")
    distance: Optional[float] = Field(None, description="Distance in miles")

class Exercise(BaseModel):
    label: str
    type: str
    unit: str
    sets: List[WorkoutSet]

class WorkoutJournalEntry(BaseModel):
    current_weight: int
    exercises: List[Exercise]
    journal_text: str
